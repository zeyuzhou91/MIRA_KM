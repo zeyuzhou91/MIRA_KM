{
 "cells": [
  {
   "cell_type": "code",
   "execution_count": 1,
   "id": "b58044e0",
   "metadata": {},
   "outputs": [],
   "source": [
    "import matplotlib.pyplot as plt\n",
    "import numpy as np\n",
    "%matplotlib inline  \n",
    "plt.rcParams['figure.figsize'] = [10, 6]\n",
    "plt.rcParams['figure.dpi'] = 100 "
   ]
  },
  {
   "cell_type": "markdown",
   "id": "b61f2098",
   "metadata": {},
   "source": [
    "Let $X \\sim N(0,1)$. The goal is to estimate $P(X \\geq 4)$."
   ]
  },
  {
   "cell_type": "code",
   "execution_count": 53,
   "id": "2dc1b1cd",
   "metadata": {},
   "outputs": [
    {
     "name": "stdout",
     "output_type": "stream",
     "text": [
      "1\n",
      "Estimation of P(X >= 4) = 0.0001\n"
     ]
    }
   ],
   "source": [
    "N = 10000\n",
    "thre = 4\n",
    "\n",
    "x_list = np.random.randn(N)\n",
    "count = np.sum(x_list >= thre)\n",
    "print(count)\n",
    "print(f\"Estimation of P(X >= {thre}) = {count/N}\")"
   ]
  },
  {
   "cell_type": "code",
   "execution_count": 54,
   "id": "2890d609",
   "metadata": {},
   "outputs": [
    {
     "name": "stdout",
     "output_type": "stream",
     "text": [
      "Esimation of P(X >= 4) = 3.162923912172169e-05\n"
     ]
    }
   ],
   "source": [
    "N = 100000\n",
    "thre = 4\n",
    "\n",
    "x_list = np.random.exponential(scale=1.0, size=N) + thre\n",
    "\n",
    "def scaled_prob(x, threshold):\n",
    "    result = 1./(np.sqrt(2*np.pi)) * np.exp(-x**2/2 + x - threshold)\n",
    "    return result\n",
    "\n",
    "y_list = scaled_prob(x_list, thre)\n",
    "est = np.mean(y_list)\n",
    "print(f'Esimation of P(X >= {thre}) = {est}')\n",
    "\n",
    "\n"
   ]
  }
 ],
 "metadata": {
  "kernelspec": {
   "display_name": "Python 3 (ipykernel)",
   "language": "python",
   "name": "python3"
  },
  "language_info": {
   "codemirror_mode": {
    "name": "ipython",
    "version": 3
   },
   "file_extension": ".py",
   "mimetype": "text/x-python",
   "name": "python",
   "nbconvert_exporter": "python",
   "pygments_lexer": "ipython3",
   "version": "3.9.13"
  }
 },
 "nbformat": 4,
 "nbformat_minor": 5
}
