{
 "cells": [
  {
   "cell_type": "code",
   "execution_count": 14,
   "id": "b58044e0",
   "metadata": {},
   "outputs": [],
   "source": [
    "import matplotlib.pyplot as plt\n",
    "import numpy as np\n",
    "%matplotlib inline  \n",
    "plt.rcParams['figure.figsize'] = [10, 6]\n",
    "plt.rcParams['figure.dpi'] = 100 "
   ]
  },
  {
   "cell_type": "markdown",
   "id": "7a3a835b",
   "metadata": {},
   "source": [
    "<img src=\"bias.png\" width=700/>"
   ]
  },
  {
   "cell_type": "markdown",
   "id": "8051554b",
   "metadata": {},
   "source": [
    "In this note we try to analyze the bias $\\delta_b$. In the figure above, the red arrow is tangent to the red curve and the black arrow is perpendicular to the red arrow. \n",
    "\n",
    "In the paper ``Spiral Trajectory Design: A Flexible Numerical Algorithm and Base Analytical Equations\" by Pipe and Zwart, the equation for $\\alpha$ is \n",
    "\\begin{equation*}\n",
    "\t\t\\tan \\alpha = \\frac{2 \\pi k_r f}{RN} \\, , \n",
    "\\end{equation*}\n",
    "\n",
    "where $k_r$ is the radius (distance to origin) of the point on the arm, $f$ is the field of view, $R$ is the undersampling rate, and $N$ is the number of arms.  Take $R = 1$, then $\\tan \\alpha = \\frac{2 \\pi k_r f}{N}$. We also know that \n",
    "\\begin{equation*}\n",
    "\tk_r = \\frac{N}{f} c \\, ,\n",
    "\\end{equation*}\n",
    "where $c$ is the number of cycles. Interpretation: if there is only one arm ($N = 1$), then whenever the arm moves forward by one cycle, the radius increases by one unit of resolution $\\frac{1}{f}$. Combining the two equations above, we get\n",
    "\\begin{equation*}\n",
    "\t\\tan \\alpha = 2 \\pi c \\, . \n",
    "\\end{equation*}\n"
   ]
  },
  {
   "cell_type": "markdown",
   "id": "42cd6a9b",
   "metadata": {},
   "source": [
    "<img src=\"geometry.png\" width=150/>"
   ]
  },
  {
   "cell_type": "markdown",
   "id": "1080eeff",
   "metadata": {},
   "source": [
    "Obviously $\\beta = \\frac{\\pi}{2} - \\alpha$. For the rest of the geometry calculation, see the figure above. \n",
    "\n",
    "$AB$ is the distance between two neighbor arms, which is $\\frac{1}{f}$. Take $\\frac{1}{f} = 1$. Then since $\\tan \\beta = \\frac{1}{2 \\pi c}$, we can find that $BC = \\frac{1}{\\sqrt{4\\pi^2 c^2 +1}}$ and $AC = \\frac{2\\pi c}{\\sqrt{4 \\pi^2 c^@ + 1}}$. Also, $AO = k_r = Nc$. Therefore\n",
    "\n",
    "\\begin{equation*}\n",
    "    \\tan \\delta_b = \\frac{BC}{AC + AO} = \\frac{1}{2\\pi c + Nc\\sqrt{4\\pi^2c^2+1}} \\approx \\frac{1}{2\\pi c(Nc+1)} \\, . \n",
    "\\end{equation*}\n",
    "\n",
    "So the formula for the bias is \n",
    "\\begin{equation*}\n",
    "\t\t\\delta_b = \\tan^{-1}\\left(\\frac{1}{2\\pi c + Nc\\sqrt{4\\pi^2c^2+1}}\\right) = \\frac{\\pi}{2} - \\tan^{-1} \\left(2\\pi c + Nc\\sqrt{4\\pi^2c^2+1}\\right) \\approx \\frac{\\pi}{2} - \\tan^{-1} \\left(2\\pi c (Nc+1)\\right) \\quad \\text{(in radians)} \\, . \n",
    "\\end{equation*}"
   ]
  },
  {
   "cell_type": "code",
   "execution_count": 15,
   "id": "0068e0da",
   "metadata": {},
   "outputs": [
    {
     "data": {
      "image/png": "[encoded data removed]",
      "text/plain": [
       "<Figure size 1000x600 with 1 Axes>"
      ]
     },
     "metadata": {
      "needs_background": "light"
     },
     "output_type": "display_data"
    }
   ],
   "source": [
    "\n",
    "\n",
    "\n",
    "def calculate_bias(c, N):\n",
    "    \"\"\"\n",
    "    Input:\n",
    "    \n",
    "    c: a number, or an numpy array\n",
    "    N: positive integer\n",
    "    \n",
    "    Output:\n",
    "    \n",
    "    bias: numpy array, in degrees\n",
    "    \"\"\"\n",
    "\n",
    "    x = 2*np.pi*c + N*c*np.sqrt((2*np.pi*c)**2+1)\n",
    "    bias_rad = np.pi/2 - np.arctan(x)\n",
    "    bias_deg = bias_rad / (2*np.pi) * 360\n",
    "    return bias_deg\n",
    "\n",
    "c = np.linspace(0,5,1000)\n",
    "\n",
    "N1 = 24\n",
    "bias1 = calculate_bias(c, N1)\n",
    "\n",
    "N2 = 20\n",
    "bias2 = calculate_bias(c, N2)\n",
    "\n",
    "N3 = 50\n",
    "bias3 = calculate_bias(c, N3)\n",
    "\n",
    "\n",
    "\n",
    "plt.figure()\n",
    "plt.plot(c, bias1, c='red', label=str(N1) + ' arms')\n",
    "#plt.plot(c, bias2, c='blue', label=str(N2) + ' arms')\n",
    "#plt.plot(c, bias3, c='green', label=str(N3) + ' arms')\n",
    "plt.xlabel('cycle')\n",
    "plt.ylabel('bias (degrees)')\n",
    "plt.legend()\n",
    "# plt.xlim([2,10])\n",
    "plt.ylim([0,0.5])\n",
    "plt.grid()\n",
    "plt.show()\n",
    "\n"
   ]
  },
  {
   "cell_type": "markdown",
   "id": "c000567e",
   "metadata": {},
   "source": [
    "For the same cycle, the bias decreases as the number of arm increases. This can be read from the mathematical expression for $\\tan \\delta_b$, which says $\\delta_b$ is inversely related to $N$. Intuitively, for larger number of arms, each arm has fewer cycles. So one cycle for 50 arms goes further (away from k-space origin) than one cycle for 20 arms. The further, the smaller the bias. "
   ]
  },
  {
   "cell_type": "code",
   "execution_count": 16,
   "id": "189debed",
   "metadata": {},
   "outputs": [
    {
     "name": "stdout",
     "output_type": "stream",
     "text": [
      "N =  10\n",
      "When c = 1, bias = 0.8195577734438436\n",
      "When c = 2, bias = 0.21646406935871154\n",
      "When c = 3, bias = 0.0979194056559813\n",
      "When c = 5, bias = 0.035742665213958656\n",
      "N =  20\n",
      "When c = 1, bias = 0.4290822825579664\n",
      "When c = 2, bias = 0.11086411289616734\n",
      "When c = 3, bias = 0.04976124819707146\n",
      "When c = 5, bias = 0.018048189552092777\n",
      "N =  24\n",
      "When c = 1, bias = 0.36039695176124753\n",
      "When c = 2, bias = 0.09276272013044039\n",
      "When c = 3, bias = 0.04158116278384411\n",
      "When c = 5, bias = 0.015065005395825372\n",
      "N =  50\n",
      "When c = 1, bias = 0.17662215310545543\n",
      "When c = 2, bias = 0.04500223578233509\n",
      "When c = 3, bias = 0.020101954495684627\n",
      "When c = 5, bias = 0.007262397351759722\n"
     ]
    }
   ],
   "source": [
    "N = 10\n",
    "print('N = ', N)\n",
    "print('When c = 1, bias =', calculate_bias(1, N))\n",
    "print('When c = 2, bias =', calculate_bias(2, N))\n",
    "print('When c = 3, bias =', calculate_bias(3, N))\n",
    "print('When c = 5, bias =', calculate_bias(5, N))\n",
    "\n",
    "N = 20\n",
    "print('N = ', N)\n",
    "print('When c = 1, bias =', calculate_bias(1, N))\n",
    "print('When c = 2, bias =', calculate_bias(2, N))\n",
    "print('When c = 3, bias =', calculate_bias(3, N))\n",
    "print('When c = 5, bias =', calculate_bias(5, N))\n",
    "\n",
    "N = 24\n",
    "print('N = ', N)\n",
    "print('When c = 1, bias =', calculate_bias(1, N))\n",
    "print('When c = 2, bias =', calculate_bias(2, N))\n",
    "print('When c = 3, bias =', calculate_bias(3, N))\n",
    "print('When c = 5, bias =', calculate_bias(5, N))\n",
    "\n",
    "N = 50\n",
    "print('N = ', N)\n",
    "print('When c = 1, bias =', calculate_bias(1, N))\n",
    "print('When c = 2, bias =', calculate_bias(2, N))\n",
    "print('When c = 3, bias =', calculate_bias(3, N))\n",
    "print('When c = 5, bias =', calculate_bias(5, N))"
   ]
  }
 ],
 "metadata": {
  "kernelspec": {
   "display_name": "Python 3 (ipykernel)",
   "language": "python",
   "name": "python3"
  },
  "language_info": {
   "codemirror_mode": {
    "name": "ipython",
    "version": 3
   },
   "file_extension": ".py",
   "mimetype": "text/x-python",
   "name": "python",
   "nbconvert_exporter": "python",
   "pygments_lexer": "ipython3",
   "version": "3.9.12"
  }
 },
 "nbformat": 4,
 "nbformat_minor": 5
}
